{
  "cells": [
    {
      "cell_type": "markdown",
      "metadata": {},
      "source": [
        "---\n",
        "title: \"Brice Piaple Dada\"\n",
        "---\n",
        "\n",
        "\n",
        "\n",
        "\n",
        "::::: rows\n",
        "::: row\n",
        "![](images/profile.jpg){.rounded-circle fig-alt=\"Brice Piaple Dada\" fig-align=\"center\" width=\"250\"}\n",
        ":::\n",
        "\n",
        "::: row\n",
        "## Bonjour, je suis Brice Piaple Dada\n",
        "\n",
        "Passionné par l'informatique et l'innovation technologique depuis toujours, j'ai développé une solide expertise grâce à des formations spécialisées. Je suis motivé à mettre mes compétences au service de projets innovants, tout en veillant à l'efficacité et à la bonne organisation des environnements de travail.\n",
        "\n",
        "Vous trouverez ici :\n"
      ],
      "id": "11f93798"
    },
    {
      "cell_type": "code",
      "metadata": {},
      "source": [
        "1+1"
      ],
      "id": "40e14cbd",
      "execution_count": null,
      "outputs": []
    },
    {
      "cell_type": "markdown",
      "metadata": {},
      "source": [
        "-   Mon [**Portfolio**](/portfolio/index.qmd), qui présente mes réalisations.\n",
        "-   Mon [**Tutoriel**](/blog/index.qmd), où je partage des articles sur des sujets qui me passionnent.\n",
        "-   Mon [**CV**](CV/Brice-Piaple-Dada-CV.qmd), qui retrace mon parcours scolaire et professionnel.\n",
        "\n",
        "N'hésitez pas à me [**contacter**](/contact.qmd) si vous avez des questions ou si vous souhaitez collaborer.\n",
        "\n",
        "Bonne visite !\n",
        ":::\n",
        ":::::"
      ],
      "id": "c2230add"
    }
  ],
  "metadata": {
    "kernelspec": {
      "display_name": "Python 3",
      "language": "python",
      "name": "python3"
    }
  },
  "nbformat": 4,
  "nbformat_minor": 5
}